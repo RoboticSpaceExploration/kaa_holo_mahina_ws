{
 "cells": [
  {
   "cell_type": "code",
   "execution_count": 21,
   "source": [
    "\n",
    "import sys, csv\n",
    "import pysindy as ps\n",
    "import numpy as np\n",
    "import pandas as pd\n",
    "from IPython.display import display, Math"
   ],
   "outputs": [],
   "metadata": {}
  },
  {
   "cell_type": "code",
   "execution_count": 25,
   "source": [
    "# Open csv file\n",
    "filepath = \"../../../../straight.csv\"\n",
    "\n",
    "with open(filepath, 'r') as csvfile:\n",
    "    reader = csv.DictReader(csvfile, delimiter=' ', quotechar='|')\n",
    "    df = pd.read_csv(csvfile, sep=r' ', header=0, encoding='ascii', engine='python')\n",
    "\n",
    "    # Drop all duplicate timestamps\n",
    "    df.drop_duplicates(inplace=True, subset=[\"timestamp_ns\"])    \n",
    "\n",
    "    # Subsample step s => only take every s-th entry of the csv file\n",
    "    s = 20\n",
    "    df = df.iloc[::s, :]\n",
    "\n",
    "    # Create numpy array from data\n",
    "    # Convert ns to seconds\n",
    "    t = df[\"timestamp_ns\"].to_numpy() / 10e+9\n",
    "    x = df[\"pos_x\"].to_numpy()\n",
    "    y = df[\"pos_y\"].to_numpy()\n",
    "    z = df[\"pos_z\"].to_numpy()\n",
    "\n",
    "    roll = df[\"roll\"].to_numpy()\n",
    "    pitch = df[\"pitch\"].to_numpy()\n",
    "    yaw = df[\"yaw\"].to_numpy()\n",
    "\n",
    "    lin_vel_x = df[\"linear_vel_x\"].to_numpy()\n",
    "    lin_vel_y = df[\"linear_vel_y\"].to_numpy()\n",
    "    lin_vel_z = df[\"linear_vel_z\"].to_numpy()\n",
    "\n",
    "    ang_vel_x = df[\"angular_vel_x\"].to_numpy()\n",
    "    ang_vel_y = df[\"angular_vel_y\"].to_numpy()\n",
    "    ang_vel_z = df[\"angular_vel_z\"].to_numpy()"
   ],
   "outputs": [],
   "metadata": {}
  },
  {
   "cell_type": "code",
   "execution_count": 33,
   "source": [
    "# Train model\n",
    "differentiation_method = ps.FiniteDifference(order=2)\n",
    "polynom = ps.PolynomialLibrary(degree=1)\n",
    "\n",
    "functions = [lambda x : np.exp(x), lambda x : np.sin(x), lambda x : np.cos(x)]\n",
    "function_names = [lambda x : \"exp(\"+str(x)+\")\", lambda x : \"sin(\"+str(x)+\")\", lambda x : \"cos(\"+str(x)+\")\"]\n",
    "lib_custom = ps.CustomLibrary(library_functions=functions, function_names=function_names)\n",
    "\n",
    "concat_lib = ps.ConcatLibrary([polynom])\n",
    "optimizer = ps.STLSQ(threshold=0.1)\n",
    "\n",
    "#feature_names = [feature for feature in df.columns[1:]]\n",
    "feature_names = ['p_x', 'p_y', 'p_z', r'\\phi', r'\\theta', r'\\psi', 'v_x', 'v_y', 'v_z', r'v_{\\phi}', r'v_{\\theta}', r'v_{\\psi}']\n",
    "\n",
    "model = ps.SINDy(feature_library=concat_lib,\n",
    "                differentiation_method=differentiation_method,\n",
    "                optimizer=optimizer,\n",
    "                discrete_time=True,\n",
    "                feature_names=feature_names)\n",
    "\n",
    "X = np.stack((x, y, z, roll, pitch, yaw, lin_vel_x, lin_vel_y, lin_vel_z, ang_vel_x, ang_vel_y, ang_vel_z), axis=-1)\n",
    "model.fit(X, t=t)\n",
    "model.print()"
   ],
   "outputs": [
    {
     "output_type": "stream",
     "name": "stdout",
     "text": [
      "(p_x)[k+1] = 0.999 p_x[k] + 0.019 \\psi[k] + 0.029 v_x[k]\n",
      "(p_y)[k+1] = 1.001 p_y[k]\n",
      "(p_z)[k+1] = 0.242 1 + 0.622 p_z[k] + -0.015 \\phi[k] + -0.049 \\theta[k]\n",
      "(\\phi)[k+1] = 1.634 1 + -2.599 p_z[k]\n",
      "(\\theta)[k+1] = 1.538 1 + -2.434 p_z[k]\n",
      "(\\psi)[k+1] = 1.001 \\psi[k]\n",
      "(v_x)[k+1] = -0.030 \\theta[k] + -0.019 \\psi[k] + 0.998 v_x[k] + 0.106 v_y[k] + -0.076 v_{\\phi}[k] + -0.428 v_{\\theta}[k] + -0.069 v_{\\psi}[k]\n",
      "(v_y)[k+1] = 0.093 \\phi[k] + 0.257 \\psi[k] + 0.037 v_x[k] + -0.492 v_y[k] + 0.060 v_z[k] + -0.055 v_{\\phi}[k] + -0.043 v_{\\theta}[k]\n",
      "(v_z)[k+1] = -0.206 v_z[k]\n",
      "(v_{\\phi})[k+1] = -7.233 \\phi[k] + 9.544 \\theta[k] + -0.002 v_x[k] + 0.051 v_y[k] + -0.194 v_z[k] + -0.216 v_{\\phi}[k] + 0.019 v_{\\theta}[k] + -0.075 v_{\\psi}[k]\n",
      "(v_{\\theta})[k+1] = 15.303 \\phi[k] + -20.146 \\theta[k] + 0.108 v_z[k] + -0.136 v_{\\phi}[k] + -0.361 v_{\\theta}[k] + -0.108 v_{\\psi}[k]\n",
      "(v_{\\psi})[k+1] = 0.848 \\phi[k] + -1.153 \\theta[k] + 0.039 v_x[k] + -0.073 v_z[k]\n"
     ]
    }
   ],
   "metadata": {}
  },
  {
   "cell_type": "code",
   "execution_count": 35,
   "source": [
    "# Print LateX legend\n",
    "legend = {\n",
    "    'p':\"position\",\n",
    "    r'\\phi':\"roll\",\n",
    "    r'\\theta':\"pitch\",\n",
    "    r'\\psi':\"yaw\",\n",
    "    'v':\"velocity\",\n",
    "}\n",
    "legend_str = \"\"\n",
    "\n",
    "for k, v in legend.items():\n",
    "    legend_str += f\"{k} : {v}\" + r\"\\\\\"\n",
    "print(legend_str)\n",
    "\n",
    "display(Math(legend_str))\n",
    "# Print equations in Latex\n",
    "latex_string = \"\"\n",
    "for i in range(len(model.equations())):\n",
    "    latex_string\n",
    "    state_var = model.feature_names[i] + \"(t+1)\"\n",
    "    eq = model.equations()[i]\n",
    "    eq = eq.replace(\"[k]\", \"(t)\")\n",
    "    eq = eq.replace(\"+ -\", \"-\")\n",
    "    latex_string += state_var + r\" &= \" + eq + r\"\\\\\"\n",
    "latex_string = r\"\\begin{align}\" + latex_string + r\"\\end{align}\"\n",
    "display(Math(latex_string))\n",
    "\n",
    "\n",
    "# # Print derivates\n",
    "# for i in range(len(model.equations())):\n",
    "#     latex_string\n",
    "#     state_var = model.feature_names[i]\n",
    "#     eq = model.equations()[i]\n",
    "#     eq = eq.replace(\"[k]\", \"\")\n",
    "#     eq = eq.replace(\"+ -\", \"-\")\n",
    "#     latex_string += r\"\\dot \" + state_var + r\" &= \" + eq + r\"\\\\\"\n",
    "\n",
    "print(latex_string)"
   ],
   "outputs": [
    {
     "output_type": "stream",
     "name": "stdout",
     "text": [
      "p : position\\\\\\phi : roll\\\\\\theta : pitch\\\\\\psi : yaw\\\\v : velocity\\\\\n"
     ]
    },
    {
     "output_type": "display_data",
     "data": {
      "text/latex": [
       "$\\displaystyle p : position\\\\\\phi : roll\\\\\\theta : pitch\\\\\\psi : yaw\\\\v : velocity\\\\$"
      ],
      "text/plain": [
       "<IPython.core.display.Math object>"
      ]
     },
     "metadata": {}
    },
    {
     "output_type": "display_data",
     "data": {
      "text/latex": [
       "$\\displaystyle \\begin{align}p_x(t+1) &= 0.999 p_x(t) + 0.019 \\psi(t) + 0.029 v_x(t)\\\\p_y(t+1) &= 1.001 p_y(t)\\\\p_z(t+1) &= 0.242 1 + 0.622 p_z(t) -0.015 \\phi(t) -0.049 \\theta(t)\\\\\\phi(t+1) &= 1.634 1 -2.599 p_z(t)\\\\\\theta(t+1) &= 1.538 1 -2.434 p_z(t)\\\\\\psi(t+1) &= 1.001 \\psi(t)\\\\v_x(t+1) &= -0.030 \\theta(t) -0.019 \\psi(t) + 0.998 v_x(t) + 0.106 v_y(t) -0.076 v_{\\phi}(t) -0.428 v_{\\theta}(t) -0.069 v_{\\psi}(t)\\\\v_y(t+1) &= 0.093 \\phi(t) + 0.257 \\psi(t) + 0.037 v_x(t) -0.492 v_y(t) + 0.060 v_z(t) -0.055 v_{\\phi}(t) -0.043 v_{\\theta}(t)\\\\v_z(t+1) &= -0.206 v_z(t)\\\\v_{\\phi}(t+1) &= -7.233 \\phi(t) + 9.544 \\theta(t) -0.002 v_x(t) + 0.051 v_y(t) -0.194 v_z(t) -0.216 v_{\\phi}(t) + 0.019 v_{\\theta}(t) -0.075 v_{\\psi}(t)\\\\v_{\\theta}(t+1) &= 15.303 \\phi(t) -20.146 \\theta(t) + 0.108 v_z(t) -0.136 v_{\\phi}(t) -0.361 v_{\\theta}(t) -0.108 v_{\\psi}(t)\\\\v_{\\psi}(t+1) &= 0.848 \\phi(t) -1.153 \\theta(t) + 0.039 v_x(t) -0.073 v_z(t)\\\\\\end{align}$"
      ],
      "text/plain": [
       "<IPython.core.display.Math object>"
      ]
     },
     "metadata": {}
    },
    {
     "output_type": "stream",
     "name": "stdout",
     "text": [
      "\\begin{align}p_x(t+1) &= 0.999 p_x(t) + 0.019 \\psi(t) + 0.029 v_x(t)\\\\p_y(t+1) &= 1.001 p_y(t)\\\\p_z(t+1) &= 0.242 1 + 0.622 p_z(t) -0.015 \\phi(t) -0.049 \\theta(t)\\\\\\phi(t+1) &= 1.634 1 -2.599 p_z(t)\\\\\\theta(t+1) &= 1.538 1 -2.434 p_z(t)\\\\\\psi(t+1) &= 1.001 \\psi(t)\\\\v_x(t+1) &= -0.030 \\theta(t) -0.019 \\psi(t) + 0.998 v_x(t) + 0.106 v_y(t) -0.076 v_{\\phi}(t) -0.428 v_{\\theta}(t) -0.069 v_{\\psi}(t)\\\\v_y(t+1) &= 0.093 \\phi(t) + 0.257 \\psi(t) + 0.037 v_x(t) -0.492 v_y(t) + 0.060 v_z(t) -0.055 v_{\\phi}(t) -0.043 v_{\\theta}(t)\\\\v_z(t+1) &= -0.206 v_z(t)\\\\v_{\\phi}(t+1) &= -7.233 \\phi(t) + 9.544 \\theta(t) -0.002 v_x(t) + 0.051 v_y(t) -0.194 v_z(t) -0.216 v_{\\phi}(t) + 0.019 v_{\\theta}(t) -0.075 v_{\\psi}(t)\\\\v_{\\theta}(t+1) &= 15.303 \\phi(t) -20.146 \\theta(t) + 0.108 v_z(t) -0.136 v_{\\phi}(t) -0.361 v_{\\theta}(t) -0.108 v_{\\psi}(t)\\\\v_{\\psi}(t+1) &= 0.848 \\phi(t) -1.153 \\theta(t) + 0.039 v_x(t) -0.073 v_z(t)\\\\\\end{align}\n"
     ]
    }
   ],
   "metadata": {}
  },
  {
   "cell_type": "code",
   "execution_count": null,
   "source": [
    "\n"
   ],
   "outputs": [],
   "metadata": {}
  }
 ],
 "metadata": {
  "orig_nbformat": 4,
  "language_info": {
   "name": "python",
   "version": "3.9.12",
   "mimetype": "text/x-python",
   "codemirror_mode": {
    "name": "ipython",
    "version": 3
   },
   "pygments_lexer": "ipython3",
   "nbconvert_exporter": "python",
   "file_extension": ".py"
  },
  "kernelspec": {
   "name": "python3",
   "display_name": "Python 3.9.12 64-bit"
  },
  "interpreter": {
   "hash": "aee8b7b246df8f9039afb4144a1f6fd8d2ca17a180786b69acc140d282b71a49"
  }
 },
 "nbformat": 4,
 "nbformat_minor": 2
}